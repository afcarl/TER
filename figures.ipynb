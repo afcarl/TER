{
 "cells": [
  {
   "cell_type": "markdown",
   "metadata": {},
   "source": [
    "# Temporal Difference Model"
   ]
  },
  {
   "cell_type": "markdown",
   "metadata": {},
   "source": [
    "### Imports"
   ]
  },
  {
   "cell_type": "code",
   "execution_count": null,
   "metadata": {},
   "outputs": [],
   "source": [
    "from bokeh.core.properties import Any, Dict, Instance, String\n",
    "from bokeh.models import ColumnDataSource, Div, Column,  LayoutDOM\n",
    "from bokeh.plotting import figure, output_file, show\n",
    "from bokeh.io import show, output_notebook\n",
    "\n",
    "from matplotlib import pyplot as plt\n",
    "\n",
    "import numpy as np\n",
    "\n",
    "import model\n",
    "\n",
    "#%matplotlib notebook"
   ]
  },
  {
   "cell_type": "markdown",
   "metadata": {},
   "source": [
    "### Parameters"
   ]
  },
  {
   "cell_type": "code",
   "execution_count": null,
   "metadata": {},
   "outputs": [],
   "source": [
    "n_trials = 400\n",
    "\n",
    "T = 5\n",
    "N = 23 # time steps occurrence\n",
    "γ = 0.98 # discount factor\n",
    "α = 0.05 # learning rate\n",
    "λ = 0 # eligibility trace parameter"
   ]
  },
  {
   "cell_type": "markdown",
   "metadata": {},
   "source": [
    "### Running the Model "
   ]
  },
  {
   "cell_type": "code",
   "execution_count": null,
   "metadata": {},
   "outputs": [],
   "source": [
    "tdmodel = model.TDModel(λ=λ, α=α, γ=γ, N=N, T=T)\n",
    "for _ in range(n_trials):\n",
    "    tdmodel.trial()"
   ]
  },
  {
   "cell_type": "markdown",
   "metadata": {},
   "source": [
    "<h3>Plots 2D</h3>"
   ]
  },
  {
   "cell_type": "code",
   "execution_count": null,
   "metadata": {},
   "outputs": [],
   "source": [
    "output_notebook()\n",
    "\n",
    "X = np.arange(0,T,T/N)\n",
    "p = figure(title=\"TD(0.9) Model\", x_axis_label=\"Time steps\",\n",
    "           y_axis_label=\"Prediction error\", y_range=[-0.01,1.4],\n",
    "           plot_width=400, plot_height=200)\n",
    "p.line(X, tdmodel.δ_history[-1], line_color=\"black\", line_width=4)\n",
    "p.circle(20*T/N, 1, size=4, line_color=\"red\", fill_color=\"red\")\n",
    "p.circle(5*T/N, 1, size=4, line_color=\"#56BA1B\", fill_color=\"#56BA1B\")\n",
    "p.circle(15*T/N, 1, size=4, line_color=\"#56BA1B\", fill_color=\"#56BA1B\")\n",
    "show(p)\n",
    "p2 = figure(title=\"TD(0.9) Model\", x_axis_label=\"Time steps\",\n",
    "           y_axis_label=\"Prediction error\", y_range=[-0.01,1.4],\n",
    "           plot_width=400, plot_height=200)\n",
    "p2.line(X, tdmodel.δ_history[-1], line_color=\"black\", line_width=4)\n",
    "show(p2)"
   ]
  },
  {
   "cell_type": "markdown",
   "metadata": {},
   "source": [
    "### Figure 5"
   ]
  },
  {
   "cell_type": "code",
   "execution_count": null,
   "metadata": {},
   "outputs": [],
   "source": [
    "import graphs\n",
    "graphs.δ_3d(tdmodel)"
   ]
  },
  {
   "cell_type": "code",
   "execution_count": null,
   "metadata": {},
   "outputs": [],
   "source": [
    "λs = [1.0, 0.9, 0.6, 0.3, 0.0]\n",
    "αs = [0.005, 0.05, 0.5, 1]\n",
    "n_trials_map = {0.005:800, 0.05:400, 0.5:40, 1:40}\n",
    "\n",
    "fig = plt.figure(figsize=(25, 20))\n",
    "\n",
    "counter = 0\n",
    "for λ in λs:\n",
    "    for α in αs:\n",
    "        counter += 1\n",
    "        tdmodel = model.TDModel(λ=λ, α=α, γ=γ, N=N, T=T)\n",
    "        for t in range(n_trials_map[α]):\n",
    "            tdmodel.trial()\n",
    "        ax = plt.subplot(len(λs), len(αs), counter, projection='3d')\n",
    "        graphs.δ_3d(tdmodel, ax=ax, show=False)\n",
    "        \n",
    "plt.tight_layout()\n",
    "plt.savefig('figures/Figure5.pdf')\n",
    "plt.show()"
   ]
  },
  {
   "cell_type": "markdown",
   "metadata": {},
   "source": [
    " "
   ]
  }
 ],
 "metadata": {
  "kernelspec": {
   "display_name": "Python 3",
   "language": "python",
   "name": "python3"
  },
  "language_info": {
   "codemirror_mode": {
    "name": "ipython",
    "version": 3
   },
   "file_extension": ".py",
   "mimetype": "text/x-python",
   "name": "python",
   "nbconvert_exporter": "python",
   "pygments_lexer": "ipython3",
   "version": "3.6.1"
  }
 },
 "nbformat": 4,
 "nbformat_minor": 2
}
