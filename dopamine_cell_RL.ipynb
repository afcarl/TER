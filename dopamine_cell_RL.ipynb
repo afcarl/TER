{
 "cells": [
  {
   "cell_type": "markdown",
   "metadata": {},
   "source": [
    "<h1>Temporal Difference model</h1>"
   ]
  },
  {
   "cell_type": "markdown",
   "metadata": {},
   "source": [
    "<h2>QUESTIONS</h2>\n",
    "\n",
    "<ul>\n",
    "<li>\"Thus, component q of the state vector is 1 if the stimulus presentation was exactly q 1 time steps ago and 0 otherwise\" ??</li>\n",
    "<li>r(t) : reward value, quelle(s) valeur(s) peut-elle prendre ?</li>\n",
    "</ul>"
   ]
  },
  {
   "cell_type": "markdown",
   "metadata": {},
   "source": [
    "<h3>Discretisation</h3>"
   ]
  },
  {
   "cell_type": "code",
   "execution_count": 1,
   "metadata": {
    "collapsed": true
   },
   "outputs": [],
   "source": [
    "T = 5\n",
    "h = 0.005 #time step scale\n",
    "N = int(T//h) #time steps occurrence"
   ]
  },
  {
   "cell_type": "markdown",
   "metadata": {},
   "source": [
    "<h3>Parameters</h3>"
   ]
  },
  {
   "cell_type": "code",
   "execution_count": 2,
   "metadata": {
    "collapsed": true
   },
   "outputs": [],
   "source": [
    "gamma = 0.98 #discount factor\n",
    "alpha = 0.5 #learning rate\n",
    "lamb = 0.5 #eligibility trace parameter"
   ]
  },
  {
   "cell_type": "markdown",
   "metadata": {},
   "source": [
    "<h3>Variables initialization</h3>"
   ]
  },
  {
   "cell_type": "code",
   "execution_count": 3,
   "metadata": {
    "collapsed": false
   },
   "outputs": [],
   "source": [
    "k = 2 #stimuli occurrence\n",
    "x = [[0 for t in range(N)] for i in range(k)] #state vectors of the stimuli\n",
    "w = [0 for t in range(N)] #weights vector\n",
    "r = [0 for t in range(N)] #reward\n",
    "\n",
    "r[750] = 1 #reward at time step #750"
   ]
  },
  {
   "cell_type": "markdown",
   "metadata": {},
   "source": [
    "<h3>Reward prediction</h3>"
   ]
  },
  {
   "cell_type": "code",
   "execution_count": 4,
   "metadata": {
    "collapsed": false
   },
   "outputs": [],
   "source": [
    "pl = [[x[i][t]*w[t] for t in range(N)] for i in range(k)] #reward predictions\n",
    "P = pl[0] #total reward prediction\n",
    "if k > 1:\n",
    "    for t in range(N):\n",
    "        for j in range(1,k): #begin at 1 <-- P = pl[0]\n",
    "            P[t] += pl[j][t]"
   ]
  },
  {
   "cell_type": "markdown",
   "metadata": {},
   "source": [
    "<h3>Temporal difference</h3>"
   ]
  },
  {
   "cell_type": "code",
   "execution_count": 5,
   "metadata": {
    "collapsed": false
   },
   "outputs": [],
   "source": [
    "TD = [(P[t-1] - gamma*P[t]) for t in range(1, N)]"
   ]
  },
  {
   "cell_type": "markdown",
   "metadata": {},
   "source": [
    "<h3>Prediction error</h3>"
   ]
  },
  {
   "cell_type": "code",
   "execution_count": 6,
   "metadata": {
    "collapsed": false
   },
   "outputs": [],
   "source": [
    "delta = [(r[t] - TD[t]) for t in range(N-1)] #the last time step is ignored"
   ]
  },
  {
   "cell_type": "markdown",
   "metadata": {},
   "source": [
    "<h3>Eligibility trace</h3>"
   ]
  },
  {
   "cell_type": "code",
   "execution_count": 7,
   "metadata": {
    "collapsed": false
   },
   "outputs": [],
   "source": [
    "e = [[0 for t in range(N)] for i in range(k)]\n",
    "\n",
    "for i in range(k):\n",
    "    e[i][0] = 0\n",
    "\n",
    "for t in range(1, N):\n",
    "    for i in range(k):\n",
    "        e[i][t] = lamb*e[i][t-1] + x[i][t-1]"
   ]
  },
  {
   "cell_type": "markdown",
   "metadata": {},
   "source": [
    "<h3>Weight change</h3>"
   ]
  },
  {
   "cell_type": "code",
   "execution_count": 8,
   "metadata": {
    "collapsed": false
   },
   "outputs": [],
   "source": [
    "delta_w = [[alpha * delta[t] * e[i][t] for t in range(N-1)] for i in range(k)] #the last time step is ignored"
   ]
  },
  {
   "cell_type": "code",
   "execution_count": null,
   "metadata": {
    "collapsed": true
   },
   "outputs": [],
   "source": []
  },
  {
   "cell_type": "code",
   "execution_count": null,
   "metadata": {
    "collapsed": true
   },
   "outputs": [],
   "source": []
  }
 ],
 "metadata": {
  "kernelspec": {
   "display_name": "Python 3",
   "language": "python",
   "name": "python3"
  },
  "language_info": {
   "codemirror_mode": {
    "name": "ipython",
    "version": 3
   },
   "file_extension": ".py",
   "mimetype": "text/x-python",
   "name": "python",
   "nbconvert_exporter": "python",
   "pygments_lexer": "ipython3",
   "version": "3.6.0"
  }
 },
 "nbformat": 4,
 "nbformat_minor": 2
}
