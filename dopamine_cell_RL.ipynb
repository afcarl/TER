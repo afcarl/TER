{
 "cells": [
  {
   "cell_type": "markdown",
   "metadata": {},
   "source": [
    "<h1>Temporal Difference model</h1>"
   ]
  },
  {
   "cell_type": "markdown",
   "metadata": {},
   "source": [
    "<h3>Importations</h3>"
   ]
  },
  {
   "cell_type": "code",
   "execution_count": null,
   "metadata": {
    "collapsed": true
   },
   "outputs": [],
   "source": [
    "from random import *\n",
    "import numpy as np\n",
    "\n",
    "from bokeh.core.properties import Any, Dict, Instance, String\n",
    "from bokeh.models import ColumnDataSource, Div, Column,  LayoutDOM\n",
    "from bokeh.plotting import figure, output_file, show\n",
    "from bokeh.io import show, output_notebook\n",
    "\n",
    "from matplotlib import pyplot as plt\n",
    "from surface3d_mpl import surface3d\n",
    "\n",
    "%matplotlib notebook"
   ]
  },
  {
   "cell_type": "markdown",
   "metadata": {},
   "source": [
    "<h3>Discretisation</h3>"
   ]
  },
  {
   "cell_type": "code",
   "execution_count": null,
   "metadata": {
    "collapsed": false
   },
   "outputs": [],
   "source": [
    "T = 5 \n",
    "N = 22 # Time steps occurrence\n",
    "h = T/N # Time step scale"
   ]
  },
  {
   "cell_type": "markdown",
   "metadata": {},
   "source": [
    "<h3>Parameters</h3>"
   ]
  },
  {
   "cell_type": "code",
   "execution_count": null,
   "metadata": {
    "collapsed": true
   },
   "outputs": [],
   "source": [
    "gamma = 0.98 # Discount factor\n",
    "alpha = 0.005 # Learning rate\n",
    "lamb = 0.9 # Eligibility trace parameter\n",
    "trials = 500 # "
   ]
  },
  {
   "cell_type": "markdown",
   "metadata": {},
   "source": [
    "<h3>Variables initialization</h3>"
   ]
  },
  {
   "cell_type": "code",
   "execution_count": null,
   "metadata": {
    "collapsed": false
   },
   "outputs": [],
   "source": [
    "k = 2 # Stimuli occurrence. k = 1 for 0 stimulus too.\n",
    "x = [[0 for t in range(N)] for i in range(k)] # State vectors of the stimuli, between 0.5 to 2 seconds\n",
    "w = [[0 for t in range(N)] for i in range(k)] # Weights vector per stimulus\n",
    "r = [0 for t in range(N)] # Reward\n",
    "\n",
    "pl = [[0 for t in range(N)] for i in range(k)] # Reward predictions\n",
    "P = [0 for t in range(N)] # Total reward prediction\n",
    "\n",
    "TD = [0 for t in range(N)] # Temporal Difference\n",
    "delta = [0 for t in range(N)] # Prediction error\n",
    "e = [[0 for t in range(N)] for i in range(k)] # Eligibility trace\n",
    "delta_w = [[0 for t in range(N)] for i in range(k)] # The last time step is ignored\n",
    "delta_plot = [] #to store delta's vectors"
   ]
  },
  {
   "cell_type": "markdown",
   "metadata": {},
   "source": [
    "<h3> Learning progress </h3>"
   ]
  },
  {
   "cell_type": "code",
   "execution_count": null,
   "metadata": {
    "collapsed": false
   },
   "outputs": [],
   "source": [
    "for j in range(trials):\n",
    "    x = [[0 for t in range(N)] for i in range(k)]\n",
    "    r = [0 for t in range(N)]\n",
    "    e = [[0 for t in range(N)] for i in range(k)]\n",
    "\n",
    "    s = [5, 15]\n",
    "    r[20] = 1\n",
    "    q = [0, 0]\n",
    "    \n",
    "    delta_plot.append([])\n",
    "    for t in range(N):\n",
    "        \n",
    "        # First stimulus\n",
    "        if t >= 1: # ==0 at t=0, either way it isn't an N-sized list\n",
    "            e[0] = np.multiply(e[0],lamb)\n",
    "            e[0] = np.add(e[0],x[0])\n",
    "\n",
    "        if len(s)!=0 and t == s[0]:\n",
    "            x[0][q[0]] = 1\n",
    "        if len(s)!=0 and 1 in x[0] and t > s[0]:\n",
    "            try:\n",
    "                x[0][q[0]] = 0\n",
    "                x[0][q[0]+1] = 1\n",
    "                q[0] += 1\n",
    "            except: pass\n",
    "        pl[0] = np.multiply(x[0],w[0]) #reward predictions\n",
    "        P[t] = np.sum(pl[0])\n",
    "        \n",
    "        # Second stimulus\n",
    "        if k == 2: #if there are two stimuli\n",
    "            e[1] = np.multiply(e[1],lamb)\n",
    "            e[1] = np.add(e[1],x[1])\n",
    "            if len(s)!=0 and t == s[1]:\n",
    "                x[1][q[1]] = 1        \n",
    "            if len(s)!=0 and 1 in x[1] and t > s[1]:\n",
    "                try:\n",
    "                    x[1][q[1]] = 0\n",
    "                    x[1][q[1]+1] = 1\n",
    "                    q[1] += 1\n",
    "                except: pass\n",
    "            pl[1] = np.multiply(x[1],w[1])\n",
    "            P[t] += np.sum(pl[1])\n",
    "            \n",
    "        if t >= 1: # ==0 at t=0, either way it isn't an N-sized list\n",
    "            TD[t] =  P[t-1] - gamma * P[t] # <0 when predicts a reward at time step t+1\n",
    "        \n",
    "        delta[t] = r[t] - TD[t]\n",
    "        delta_plot[-1].append(delta[t])\n",
    "        delta_w[0] = np.multiply(alpha * delta[t], e[0])\n",
    "        w[0] = np.add(w[0], delta_w[0])\n",
    "        if k == 2:\n",
    "            delta_w[1] = np.multiply(alpha * delta[t], e[1])\n",
    "            w[1] = np.add(w[1], delta_w[1])"
   ]
  },
  {
   "cell_type": "markdown",
   "metadata": {},
   "source": [
    "<h4>Plots</h4>"
   ]
  },
  {
   "cell_type": "code",
   "execution_count": null,
   "metadata": {
    "collapsed": false,
    "scrolled": true
   },
   "outputs": [],
   "source": [
    "axisx = np.arange(0,T,h)\n",
    "#output_notebook()\n",
    "p = figure(title=\"TD(0) Model\", x_axis_label=\"Time step\", y_axis_label=\"Prediction error\", y_range=[0, 1.5], plot_width=400, plot_height=300)\n",
    "p.line(axisx, delta, line_width=4)\n",
    "p.circle(20*h, 1, size=4, line_color=\"red\", fill_color=\"red\")\n",
    "if len(s)!=0:\n",
    "    p.circle(s[0]*h, 1, size=4, line_color=\"#56BA1B\", fill_color=\"#56BA1B\")\n",
    "if len(s)!=0 and k == 2:\n",
    "    p.circle(s[1]*h, 1, size=4, line_color=\"#56BA1B\", fill_color=\"#56BA1B\")\n",
    "#show(p)"
   ]
  },
  {
   "cell_type": "code",
   "execution_count": null,
   "metadata": {
    "collapsed": false,
    "scrolled": false
   },
   "outputs": [],
   "source": [
    "x = np.arange(0, T, h)\n",
    "y = np.arange(0, trials, 1)\n",
    "zz = np.array(delta_plot)\n",
    "\n",
    "surface3d(x, y, zz, x_label='timesteps', y_label='trials', \n",
    "          title='TD({}) model'.format(lamb))"
   ]
  },
  {
   "cell_type": "code",
   "execution_count": null,
   "metadata": {
    "collapsed": true
   },
   "outputs": [],
   "source": []
  }
 ],
 "metadata": {
  "kernelspec": {
   "display_name": "Python 3",
   "language": "python",
   "name": "python3"
  },
  "language_info": {
   "codemirror_mode": {
    "name": "ipython",
    "version": 3
   },
   "file_extension": ".py",
   "mimetype": "text/x-python",
   "name": "python",
   "nbconvert_exporter": "python",
   "pygments_lexer": "ipython3",
   "version": "3.5.2"
  }
 },
 "nbformat": 4,
 "nbformat_minor": 2
}
