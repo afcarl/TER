{
 "cells": [
  {
   "cell_type": "markdown",
   "metadata": {},
   "source": [
    "<h1>Temporal Difference model</h1>"
   ]
  },
  {
   "cell_type": "markdown",
   "metadata": {},
   "source": [
    "<h2>QUESTIONS</h2>\n",
    "\n",
    "<ul>\n",
    "<li>\"Thus, component q of the state vector is 1 if the stimulus presentation was exactly q 1 time steps ago and 0 otherwise\" ??</li>\n",
    "</ul>"
   ]
  },
  {
   "cell_type": "markdown",
   "metadata": {},
   "source": [
    "<h3>Importations</h3>"
   ]
  },
  {
   "cell_type": "code",
   "execution_count": 1,
   "metadata": {
    "collapsed": true
   },
   "outputs": [],
   "source": [
    "from matplotlib import pyplot as plt\n",
    "from random import *\n",
    "import numpy as np\n",
    "\n",
    "##from __future__ import division\n",
    "\n",
    "##from bokeh.core.properties import Any, Dict, Instance, String\n",
    "##from bokeh.io import show\n",
    "##from bokeh.models import ColumnDataSource, Div, Column,  LayoutDOM"
   ]
  },
  {
   "cell_type": "markdown",
   "metadata": {},
   "source": [
    "<h3>Discretisation</h3>"
   ]
  },
  {
   "cell_type": "code",
   "execution_count": 2,
   "metadata": {
    "collapsed": false
   },
   "outputs": [],
   "source": [
    "T = 5\n",
    "N = 50 #time steps occurrence\n",
    "h = T/N #time step scale"
   ]
  },
  {
   "cell_type": "markdown",
   "metadata": {},
   "source": [
    "<h3>Parameters</h3>"
   ]
  },
  {
   "cell_type": "code",
   "execution_count": 3,
   "metadata": {
    "collapsed": true
   },
   "outputs": [],
   "source": [
    "gamma = 0.98 #discount factor\n",
    "alpha = 0.5 #learning rate\n",
    "lamb = 0.9 #eligibility trace parameter"
   ]
  },
  {
   "cell_type": "markdown",
   "metadata": {},
   "source": [
    "<h3>Variables initialization</h3>"
   ]
  },
  {
   "cell_type": "code",
   "execution_count": 4,
   "metadata": {
    "collapsed": false
   },
   "outputs": [],
   "source": [
    "k = 1 #stimuli occurrence\n",
    "x = [[0 for t in range(N)] for i in range(k)] #state vectors of the stimuli, between 0.5 to 2 seconds\n",
    "w = [[0 for t in range(N)] for i in range(k)] #weights vector per stimulus\n",
    "r = [0 for t in range(N)] #reward"
   ]
  },
  {
   "cell_type": "markdown",
   "metadata": {},
   "source": [
    "<h3>Reward prediction</h3>"
   ]
  },
  {
   "cell_type": "code",
   "execution_count": 5,
   "metadata": {
    "collapsed": false
   },
   "outputs": [],
   "source": [
    "pl = [[x[i][t]*w[i][t] for t in range(N)] for i in range(k)] #reward predictions\n",
    "P = pl[0] #total reward prediction\n",
    "if k > 1:\n",
    "    for t in range(N):\n",
    "        for i in range(1,k): #begin at 1 <-- P = pl[0]\n",
    "            P[t] += pl[i][t]"
   ]
  },
  {
   "cell_type": "markdown",
   "metadata": {},
   "source": [
    "<h3>Temporal difference</h3>"
   ]
  },
  {
   "cell_type": "code",
   "execution_count": 6,
   "metadata": {
    "collapsed": false
   },
   "outputs": [],
   "source": [
    "TD = [0]\n",
    "for t in range(1,N):\n",
    "    TD.append(P[t-1] - gamma*P[t])"
   ]
  },
  {
   "cell_type": "markdown",
   "metadata": {},
   "source": [
    "<h3>Prediction error</h3>"
   ]
  },
  {
   "cell_type": "code",
   "execution_count": 7,
   "metadata": {
    "collapsed": false
   },
   "outputs": [],
   "source": [
    "delta = [(r[t] - TD[t]) for t in range(N)]"
   ]
  },
  {
   "cell_type": "markdown",
   "metadata": {},
   "source": [
    "<h3>Eligibility trace</h3>"
   ]
  },
  {
   "cell_type": "code",
   "execution_count": 8,
   "metadata": {
    "collapsed": false
   },
   "outputs": [],
   "source": [
    "e = [[0] for i in range(k)]\n",
    "\n",
    "for t in range(1,N):\n",
    "    for i in range(k):\n",
    "        e[i].append(lamb*e[i][t-1] + x[i][t-1])"
   ]
  },
  {
   "cell_type": "markdown",
   "metadata": {},
   "source": [
    "<h3>Weight change</h3>"
   ]
  },
  {
   "cell_type": "code",
   "execution_count": 9,
   "metadata": {
    "collapsed": false
   },
   "outputs": [],
   "source": [
    "delta_w = [[alpha * delta[t] * e[i][t] for t in range(N)] for i in range(k)] #the last time step is ignored\n",
    "\n",
    "for t in range(N):\n",
    "    for i in range(k):\n",
    "        w[i][t] +=  delta_w[i][t] #weights update"
   ]
  },
  {
   "cell_type": "code",
   "execution_count": 20,
   "metadata": {
    "collapsed": false
   },
   "outputs": [],
   "source": [
    "trials = 5\n",
    "for j in range(trials):\n",
    "    x = [[0 for t in range(N)] for i in range(k)]\n",
    "    r = [0 for t in range(N)]\n",
    "        \n",
    "    for i in range(k):\n",
    "        stimulus = randint(5,35)\n",
    "        x[i][stimulus] = 1\n",
    "        r[stimulus + 10] = 1\n",
    "    \n",
    "    # action\n",
    "    for t in range(N):\n",
    "        for i in range(k):          \n",
    "            pl[i][t] = x[i][t] * w[i][t] #reward predictions\n",
    "            P[t] += pl[i][t]\n",
    "            \n",
    "            if t >= 1: # ==0 at t=0, either way it isn't an N-sized list\n",
    "                e[i][t] = lamb*e[i][t-1] + x[i][t-1]\n",
    "                TD[t] =  P[t-1] - gamma * P[t] # <0 when predicts a reward at time step t+1\n",
    "            \n",
    "            delta[t] = r[t] - TD[t]\n",
    "            \n",
    "            delta_w[i][t] = alpha * delta[t] * e[i][t]\n",
    "            w[i][t] += delta_w[i][t]"
   ]
  },
  {
   "cell_type": "markdown",
   "metadata": {
    "collapsed": true
   },
   "source": [
    "<h4>Values</h4>"
   ]
  },
  {
   "cell_type": "code",
   "execution_count": 21,
   "metadata": {
    "collapsed": false
   },
   "outputs": [
    {
     "name": "stdout",
     "output_type": "stream",
     "text": [
      "x 2.3000000000000003 1\n",
      "prediction error 2.3000000000000003 -0.7593441584400002\n",
      "prediction error 2.4000000000000004 0.7748409780000003\n",
      "r 3.3000000000000003 1\n",
      "prediction error 3.3000000000000003 1.0\n"
     ]
    }
   ],
   "source": [
    "for i in range(N):\n",
    "    if r[i] != 0: print(\"r\", i*h, r[i])\n",
    "    #if w[0][i] != 0: print(\"w\", i*h, w[0][i])\n",
    "    if x[0][i] != 0: print(\"x\", i*h, x[0][i])\n",
    "    if delta[i] != 0: print(\"prediction error\", i*h,delta[i])"
   ]
  },
  {
   "cell_type": "markdown",
   "metadata": {
    "collapsed": true
   },
   "source": [
    "<h4>Plot</h4>"
   ]
  },
  {
   "cell_type": "code",
   "execution_count": 22,
   "metadata": {
    "collapsed": false
   },
   "outputs": [
    {
     "data": {
      "image/png": "[encoded data removed]",
      "text/plain": [
       "<matplotlib.figure.Figure at 0x2350b784c18>"
      ]
     },
     "metadata": {},
     "output_type": "display_data"
    }
   ],
   "source": [
    "axisx = np.arange(0,T,h)\n",
    "plt.plot(axisx, delta, 'b', axisx, r, 'ro', axisx, x[0], 'go')\n",
    "# axes limits\n",
    "axes = plt.gca()\n",
    "axes.set_ylim([0, 3])\n",
    "plt.show()"
   ]
  },
  {
   "cell_type": "code",
   "execution_count": null,
   "metadata": {
    "collapsed": true
   },
   "outputs": [],
   "source": []
  },
  {
   "cell_type": "code",
   "execution_count": null,
   "metadata": {
    "collapsed": true
   },
   "outputs": [],
   "source": []
  }
 ],
 "metadata": {
  "kernelspec": {
   "display_name": "Python 3",
   "language": "python",
   "name": "python3"
  },
  "language_info": {
   "codemirror_mode": {
    "name": "ipython",
    "version": 3
   },
   "file_extension": ".py",
   "mimetype": "text/x-python",
   "name": "python",
   "nbconvert_exporter": "python",
   "pygments_lexer": "ipython3",
   "version": "3.6.0"
  }
 },
 "nbformat": 4,
 "nbformat_minor": 2
}
